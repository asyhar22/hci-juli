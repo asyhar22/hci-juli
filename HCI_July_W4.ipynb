{
  "nbformat": 4,
  "nbformat_minor": 0,
  "metadata": {
    "colab": {
      "name": "HCI_July_W4.ipynb",
      "provenance": [],
      "authorship_tag": "ABX9TyMqmf09X1w7zm4x3ehixnPF",
      "include_colab_link": true
    },
    "kernelspec": {
      "name": "python3",
      "display_name": "Python 3"
    },
    "language_info": {
      "name": "python"
    }
  },
  "cells": [
    {
      "cell_type": "markdown",
      "metadata": {
        "id": "view-in-github",
        "colab_type": "text"
      },
      "source": [
        "<a href=\"https://colab.research.google.com/github/asyhar22/hci-juli/blob/main/HCI_July_W4.ipynb\" target=\"_parent\"><img src=\"https://colab.research.google.com/assets/colab-badge.svg\" alt=\"Open In Colab\"/></a>"
      ]
    },
    {
      "cell_type": "code",
      "execution_count": 1,
      "metadata": {
        "colab": {
          "base_uri": "https://localhost:8080/"
        },
        "id": "EewvVY3H6ak7",
        "outputId": "f89bc938-c37c-4805-b77e-15afe26348c4"
      },
      "outputs": [
        {
          "output_type": "stream",
          "name": "stdout",
          "text": [
            "Mounted at /content/drive\n"
          ]
        }
      ],
      "source": [
        "from google.colab import drive\n",
        "drive.mount('/content/drive')"
      ]
    },
    {
      "cell_type": "code",
      "source": [
        "import pandas as pd"
      ],
      "metadata": {
        "id": "h_PSDXKc8d5-"
      },
      "execution_count": 6,
      "outputs": []
    },
    {
      "cell_type": "code",
      "source": [
        "path1 = '/content/drive/My Drive/HCI-July/application_test.csv'\n",
        "path2 = '/content/drive/My Drive/HCI-July/application_train.csv'\n",
        "path3 = '/content/drive/My Drive/HCI-July/bureau.csv'\n",
        "path4 = '/content/drive/My Drive/HCI-July/bureau_balance.csv'\n",
        "path5 = '/content/drive/My Drive/HCI-July/credit_card_balance.csv'\n",
        "path6 = '/content/drive/My Drive/HCI-July/installments_payments.csv'\n",
        "path7 = '/content/drive/My Drive/HCI-July/POS_CASH_balance.csv'\n",
        "path8 = '/content/drive/My Drive/HCI-July/previous_application.csv'\n",
        "\n",
        "df_application_test = pd.read_csv(path1)\n",
        "df_application_train = pd.read_csv(path2)\n",
        "df_bureau = pd.read_csv(path3)\n",
        "df_bureau_balance = pd.read_csv(path4)\n",
        "df_credit_card_balance = pd.read_csv(path5)\n",
        "df_installments_payments = pd.read_csv(path6)\n",
        "df_POS_CASH_balance = pd.read_csv(path7)\n",
        "df_previous_application = pd.read_csv(path8)\n"
      ],
      "metadata": {
        "id": "yXSzhl007paI"
      },
      "execution_count": null,
      "outputs": []
    }
  ]
}